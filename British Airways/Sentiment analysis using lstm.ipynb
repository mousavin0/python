{
 "cells": [
  {
   "cell_type": "code",
   "execution_count": 80,
   "id": "cb57d13c",
   "metadata": {},
   "outputs": [],
   "source": [
    "import numpy as np\n",
    "import tensorflow as tf\n",
    "from tensorflow.keras.preprocessing.text import Tokenizer\n",
    "from tensorflow.keras.preprocessing.sequence import pad_sequences\n",
    "from tensorflow.keras.layers import Embedding, LSTM, Dense, Dropout\n",
    "from tensorflow.keras.callbacks import EarlyStopping\n",
    "from sklearn.model_selection import train_test_split\n",
    "import pandas as pd\n",
    "import re\n",
    "from nltk.stem.wordnet import WordNetLemmatizer\n",
    "from nltk.corpus import stopwords\n",
    "import string\n",
    "\n",
    "# Load the data\n",
    "data = pd.read_csv('British_Airways_Reviews.csv')\n",
    "reviews = np.array(data['Header'])\n",
    "labels = np.array(data['Rating'].apply(lambda r : +1 if r >= 5 else 0))\n",
    "\n",
    "\n",
    "def clean_review(review,my_stopwords,my_lemmatizer):\n",
    "    # Remove punctuation\n",
    "    review = review.translate(str.maketrans('', '', string.punctuation))\n",
    "    # Remove digits\n",
    "    review = re.sub(r'\\d+', '', review)\n",
    "    # Remove multiple spaces\n",
    "    review = re.sub(r'\\s+', ' ', review)\n",
    "    # Convert to lowercase\n",
    "    review = review.lower()\n",
    "    # Remove leading and trailing whitespaces\n",
    "    review = review.strip()\n",
    "    words=review.split()\n",
    "    cleanreview=[w for w in words if not w.lower() in my_stopwords]\n",
    "    cleanreview = [my_lemmatizer.lemmatize(w) for w in cleanreview]\n",
    "    cleanreview=\" \".join(w for w in cleanreview)\n",
    "    return cleanreview\n",
    "\n",
    "my_stopwords = set(stopwords.words('english'))\n",
    "my_lemmatizer = WordNetLemmatizer()\n",
    "# Apply the function to the reviews\n",
    "reviews = [clean_review(review,my_stopwords,my_lemmatizer) for review in reviews]\n",
    "\n",
    "\n",
    "# Split the data into train and test sets\n",
    "X_train, X_test, y_train, y_test = train_test_split(reviews, labels, test_size=0.15)\n",
    "X_train, X_val, y_train, y_val = train_test_split(X_train, y_train, test_size=0.15)\n",
    "\n",
    "# Tokenize the text\n",
    "tokenizer = Tokenizer()\n",
    "tokenizer.fit_on_texts(X_train)\n",
    "X_train = tokenizer.texts_to_sequences(X_train)\n",
    "X_val = tokenizer.texts_to_sequences(X_val)\n",
    "X_test = tokenizer.texts_to_sequences(X_test)\n",
    "vocab_size = len(tokenizer.word_index) + 1\n",
    "\n",
    "# Pad the sequences to make them of equal length\n",
    "max_length = max([len(x) for x in X_train])\n",
    "X_train = pad_sequences(X_train, padding='post', maxlen=max_length)\n",
    "X_val = pad_sequences(X_val, padding='post', maxlen=max_length)\n",
    "X_test = pad_sequences(X_test, padding='post', maxlen=max_length)\n"
   ]
  },
  {
   "cell_type": "code",
   "execution_count": 81,
   "id": "2ac9bb6f",
   "metadata": {},
   "outputs": [],
   "source": [
    "embeddings_size=200\n",
    "# Use pre-trained embeddings\n",
    "embeddings_index = {}\n",
    "f = open('glove.6b.200d.txt', encoding='utf-8')\n",
    "for line in f:\n",
    "    values = line.split()\n",
    "    word = values[0]\n",
    "    coefs = np.asarray(values[1:], dtype='float32')\n",
    "    embeddings_index[word] = coefs\n",
    "f.close()\n",
    "\n",
    "embedding_matrix = np.zeros((vocab_size, embeddings_size))\n",
    "for word, i in tokenizer.word_index.items():\n",
    "    embedding_vector = embeddings_index.get(word)\n",
    "    if embedding_vector is not None:\n",
    "        embedding_matrix[i] = embedding_vector\n",
    "\n",
    "\n"
   ]
  },
  {
   "cell_type": "code",
   "execution_count": 82,
   "id": "012f6059",
   "metadata": {},
   "outputs": [],
   "source": [
    "from keras.layers import SpatialDropout1D\n",
    "from keras.layers import Bidirectional\n",
    "from keras.optimizers import Adam\n",
    "# Build the model\n",
    "model = tf.keras.Sequential()\n",
    "model.add(Embedding(vocab_size, embeddings_size, weights=[embedding_matrix], input_length=max_length, trainable=False))\n",
    "model.add(SpatialDropout1D(0.4))\n",
    "model.add(LSTM(64, return_sequences=True,recurrent_dropout=0.15))\n",
    "model.add(Dropout(0.2))\n",
    "model.add(LSTM(32,recurrent_dropout=0.15))\n",
    "#model.add(Dense(16))\n",
    "model.add(Dropout(0.2))\n",
    "model.add(Dense(1, activation='sigmoid'))\n",
    "\n",
    "#model.add(Bidirectional(LSTM(10, return_sequences=True),\n",
    "#                             input_shape=(5, 10)))\n",
    "#model.add(Bidirectional(LSTM(10)))\n",
    "#model.add(Dense(5))\n",
    "#model.add(Dropout(0.6))\n",
    "#model.add(Dense(1, activation='sigmoid'))\n",
    "\n",
    "# Compile the model\n",
    "#adam = Adam(learning_rate = 0.0001)\n",
    "model.compile(loss='binary_crossentropy', optimizer='adam', metrics=['accuracy'])"
   ]
  },
  {
   "cell_type": "code",
   "execution_count": 83,
   "id": "f7847382",
   "metadata": {},
   "outputs": [
    {
     "name": "stdout",
     "output_type": "stream",
     "text": [
      "Epoch 1/50\n",
      "10/10 [==============================] - 8s 201ms/step - loss: 0.6609 - accuracy: 0.5726 - val_loss: 0.5891 - val_accuracy: 0.6603\n",
      "Epoch 2/50\n",
      "10/10 [==============================] - 1s 131ms/step - loss: 0.5495 - accuracy: 0.7731 - val_loss: 0.4036 - val_accuracy: 0.8884\n",
      "Epoch 3/50\n",
      "10/10 [==============================] - 1s 129ms/step - loss: 0.3728 - accuracy: 0.8771 - val_loss: 0.2394 - val_accuracy: 0.9216\n",
      "Epoch 4/50\n",
      "10/10 [==============================] - 1s 129ms/step - loss: 0.2588 - accuracy: 0.9018 - val_loss: 0.1236 - val_accuracy: 0.9572\n",
      "Epoch 5/50\n",
      "10/10 [==============================] - 1s 135ms/step - loss: 0.1675 - accuracy: 0.9409 - val_loss: 0.0504 - val_accuracy: 0.9762\n",
      "Epoch 6/50\n",
      "10/10 [==============================] - 1s 130ms/step - loss: 0.1173 - accuracy: 0.9564 - val_loss: 0.0238 - val_accuracy: 0.9881\n",
      "Epoch 7/50\n",
      "10/10 [==============================] - 1s 138ms/step - loss: 0.0792 - accuracy: 0.9732 - val_loss: 0.0125 - val_accuracy: 1.0000\n",
      "Epoch 8/50\n",
      "10/10 [==============================] - 1s 133ms/step - loss: 0.0746 - accuracy: 0.9723 - val_loss: 0.0070 - val_accuracy: 1.0000\n",
      "Epoch 9/50\n",
      "10/10 [==============================] - 1s 130ms/step - loss: 0.0501 - accuracy: 0.9828 - val_loss: 0.0054 - val_accuracy: 1.0000\n",
      "Epoch 10/50\n",
      "10/10 [==============================] - 1s 133ms/step - loss: 0.0349 - accuracy: 0.9887 - val_loss: 0.0037 - val_accuracy: 1.0000\n",
      "Epoch 11/50\n",
      "10/10 [==============================] - 1s 136ms/step - loss: 0.0267 - accuracy: 0.9924 - val_loss: 0.0024 - val_accuracy: 1.0000\n",
      "Epoch 12/50\n",
      "10/10 [==============================] - 1s 130ms/step - loss: 0.0190 - accuracy: 0.9954 - val_loss: 0.0017 - val_accuracy: 1.0000\n",
      "Epoch 13/50\n",
      "10/10 [==============================] - 1s 134ms/step - loss: 0.0299 - accuracy: 0.9904 - val_loss: 0.0015 - val_accuracy: 1.0000\n",
      "Epoch 14/50\n",
      "10/10 [==============================] - 1s 133ms/step - loss: 0.0211 - accuracy: 0.9924 - val_loss: 0.0015 - val_accuracy: 1.0000\n",
      "Epoch 15/50\n",
      "10/10 [==============================] - 1s 129ms/step - loss: 0.0119 - accuracy: 0.9966 - val_loss: 0.0013 - val_accuracy: 1.0000\n",
      "Epoch 16/50\n",
      "10/10 [==============================] - 1s 129ms/step - loss: 0.0137 - accuracy: 0.9966 - val_loss: 0.0011 - val_accuracy: 1.0000\n",
      "Epoch 17/50\n",
      "10/10 [==============================] - 1s 129ms/step - loss: 0.0068 - accuracy: 0.9992 - val_loss: 9.7927e-04 - val_accuracy: 1.0000\n",
      "Epoch 18/50\n",
      "10/10 [==============================] - 1s 128ms/step - loss: 0.0106 - accuracy: 0.9966 - val_loss: 8.2440e-04 - val_accuracy: 1.0000\n",
      "Epoch 19/50\n",
      "10/10 [==============================] - 1s 132ms/step - loss: 0.0088 - accuracy: 0.9975 - val_loss: 6.9631e-04 - val_accuracy: 1.0000\n",
      "Epoch 20/50\n",
      "10/10 [==============================] - 1s 136ms/step - loss: 0.0083 - accuracy: 0.9983 - val_loss: 6.1280e-04 - val_accuracy: 1.0000\n",
      "Epoch 21/50\n",
      "10/10 [==============================] - 1s 126ms/step - loss: 0.0072 - accuracy: 0.9983 - val_loss: 5.7645e-04 - val_accuracy: 1.0000\n",
      "Epoch 22/50\n",
      "10/10 [==============================] - 1s 127ms/step - loss: 0.0059 - accuracy: 0.9987 - val_loss: 5.2385e-04 - val_accuracy: 1.0000\n",
      "Epoch 23/50\n",
      "10/10 [==============================] - 1s 128ms/step - loss: 0.0062 - accuracy: 0.9983 - val_loss: 4.9302e-04 - val_accuracy: 1.0000\n",
      "Epoch 24/50\n",
      "10/10 [==============================] - 1s 134ms/step - loss: 0.0063 - accuracy: 0.9975 - val_loss: 4.7227e-04 - val_accuracy: 1.0000\n",
      "Epoch 25/50\n",
      "10/10 [==============================] - 1s 127ms/step - loss: 0.0034 - accuracy: 0.9992 - val_loss: 4.3132e-04 - val_accuracy: 1.0000\n",
      "Epoch 26/50\n",
      "10/10 [==============================] - 1s 141ms/step - loss: 0.0020 - accuracy: 0.9996 - val_loss: 3.8509e-04 - val_accuracy: 1.0000\n",
      "Epoch 27/50\n",
      "10/10 [==============================] - 1s 127ms/step - loss: 0.0037 - accuracy: 0.9987 - val_loss: 3.4928e-04 - val_accuracy: 1.0000\n",
      "Epoch 28/50\n",
      "10/10 [==============================] - 1s 129ms/step - loss: 0.0076 - accuracy: 0.9979 - val_loss: 3.2568e-04 - val_accuracy: 1.0000\n",
      "Epoch 29/50\n",
      "10/10 [==============================] - 1s 128ms/step - loss: 0.0092 - accuracy: 0.9971 - val_loss: 3.4486e-04 - val_accuracy: 1.0000\n",
      "Epoch 30/50\n",
      "10/10 [==============================] - 1s 142ms/step - loss: 0.0054 - accuracy: 0.9992 - val_loss: 3.4029e-04 - val_accuracy: 1.0000\n",
      "Epoch 31/50\n",
      "10/10 [==============================] - 1s 126ms/step - loss: 0.0048 - accuracy: 0.9992 - val_loss: 3.1491e-04 - val_accuracy: 1.0000\n",
      "Epoch 32/50\n",
      "10/10 [==============================] - 1s 140ms/step - loss: 0.0058 - accuracy: 0.9987 - val_loss: 3.0113e-04 - val_accuracy: 1.0000\n",
      "Epoch 33/50\n",
      "10/10 [==============================] - 1s 133ms/step - loss: 0.0020 - accuracy: 0.9996 - val_loss: 2.7596e-04 - val_accuracy: 1.0000\n",
      "Epoch 34/50\n",
      "10/10 [==============================] - 1s 133ms/step - loss: 0.0047 - accuracy: 0.9992 - val_loss: 2.6947e-04 - val_accuracy: 1.0000\n",
      "Epoch 35/50\n",
      "10/10 [==============================] - 1s 129ms/step - loss: 0.0016 - accuracy: 1.0000 - val_loss: 2.4868e-04 - val_accuracy: 1.0000\n",
      "Epoch 36/50\n",
      "10/10 [==============================] - 1s 132ms/step - loss: 0.0031 - accuracy: 0.9992 - val_loss: 2.3501e-04 - val_accuracy: 1.0000\n",
      "Epoch 37/50\n",
      "10/10 [==============================] - 2s 152ms/step - loss: 0.0014 - accuracy: 0.9996 - val_loss: 2.1797e-04 - val_accuracy: 1.0000\n",
      "Epoch 38/50\n",
      "10/10 [==============================] - 1s 139ms/step - loss: 0.0012 - accuracy: 0.9996 - val_loss: 2.0072e-04 - val_accuracy: 1.0000\n",
      "Epoch 39/50\n",
      "10/10 [==============================] - 1s 131ms/step - loss: 0.0050 - accuracy: 0.9983 - val_loss: 1.9341e-04 - val_accuracy: 1.0000\n",
      "Epoch 40/50\n",
      "10/10 [==============================] - 1s 134ms/step - loss: 0.0034 - accuracy: 0.9992 - val_loss: 2.1794e-04 - val_accuracy: 1.0000\n",
      "Epoch 41/50\n",
      "10/10 [==============================] - 1s 134ms/step - loss: 0.0027 - accuracy: 0.9987 - val_loss: 2.1606e-04 - val_accuracy: 1.0000\n",
      "Epoch 42/50\n",
      "10/10 [==============================] - 1s 131ms/step - loss: 0.0014 - accuracy: 1.0000 - val_loss: 2.0479e-04 - val_accuracy: 1.0000\n",
      "Epoch 43/50\n",
      "10/10 [==============================] - 1s 134ms/step - loss: 0.0071 - accuracy: 0.9987 - val_loss: 2.0161e-04 - val_accuracy: 1.0000\n",
      "Epoch 44/50\n",
      "10/10 [==============================] - 1s 132ms/step - loss: 0.0014 - accuracy: 0.9996 - val_loss: 2.0005e-04 - val_accuracy: 1.0000\n"
     ]
    },
    {
     "data": {
      "text/plain": [
       "<keras.callbacks.History at 0x1ec6b7520a0>"
      ]
     },
     "execution_count": 83,
     "metadata": {},
     "output_type": "execute_result"
    }
   ],
   "source": [
    "\n",
    "# Train the model; The EarlyStopping callback will stop the training if the validation loss does not improve after 5 epochs\n",
    "early_stopping = EarlyStopping(monitor='val_loss', patience=5)\n",
    "model.fit(X_train, y_train, validation_data=(X_val, y_val), callbacks=[early_stopping], epochs=50, batch_size=256)"
   ]
  },
  {
   "cell_type": "code",
   "execution_count": 84,
   "id": "c92c18ac",
   "metadata": {},
   "outputs": [
    {
     "name": "stdout",
     "output_type": "stream",
     "text": [
      "16/16 [==============================] - 0s 11ms/step - loss: 2.0245e-04 - accuracy: 1.0000\n",
      "Test Loss: 0.0002024545829044655\n",
      "Test Accuracy: 1.0\n"
     ]
    }
   ],
   "source": [
    "test_loss, test_acc = model.evaluate(X_test, y_test)\n",
    "print('Test Loss:', test_loss)\n",
    "print('Test Accuracy:', test_acc)"
   ]
  },
  {
   "cell_type": "code",
   "execution_count": 86,
   "id": "a02ff97a",
   "metadata": {},
   "outputs": [
    {
     "name": "stdout",
     "output_type": "stream",
     "text": [
      "16/16 [==============================] - 1s 16ms/step\n",
      "[[292   0]\n",
      " [  0 203]]\n",
      "Precision:  [1. 1.]\n",
      "Recall:  [1. 1.]\n",
      "F1-Score:  [1. 1.]\n",
      "Support:  [292 203]\n",
      "ROC-AUC Score:  1.0\n"
     ]
    }
   ],
   "source": [
    "from sklearn.metrics import confusion_matrix, precision_recall_fscore_support, roc_auc_score\n",
    "\n",
    "predictions = model.predict(X_test)\n",
    "#Convert predictions to class labels\n",
    "predicted_classes = [1 if i>0.5 else 0 for i in predictions]\n",
    "\n",
    "#Confusion Matrix\n",
    "conf_mat = confusion_matrix(y_test, predicted_classes)\n",
    "print(conf_mat)\n",
    "\n",
    "#Precision, Recall, F1-Score and Support\n",
    "precision, recall, f1_score, support = precision_recall_fscore_support(y_test, predicted_classes)\n",
    "print(\"Precision: \", precision)\n",
    "print(\"Recall: \", recall)\n",
    "print(\"F1-Score: \", f1_score)\n",
    "print(\"Support: \", support)\n",
    "\n",
    "#ROC-AUC Score\n",
    "roc_auc = roc_auc_score(y_test, predictions)\n",
    "print(\"ROC-AUC Score: \", roc_auc)"
   ]
  },
  {
   "cell_type": "code",
   "execution_count": 109,
   "id": "d6f81f1c",
   "metadata": {},
   "outputs": [
    {
     "data": {
      "text/plain": [
       "[Text(0.5, 1.0, 'Confusion matrix of an RNN classifier using a test data')]"
      ]
     },
     "execution_count": 109,
     "metadata": {},
     "output_type": "execute_result"
    },
    {
     "data": {
      "image/png": "[encoded data removed]",
      "text/plain": [
       "<Figure size 432x288 with 2 Axes>"
      ]
     },
     "metadata": {
      "needs_background": "light"
     },
     "output_type": "display_data"
    }
   ],
   "source": [
    "from sklearn.metrics import confusion_matrix\n",
    "cm = confusion_matrix(y_test, predicted_classes)\n",
    "cmd=ConfusionMatrixDisplay(cm,display_labels=['negative','positive']).plot()\n",
    "\n",
    "cmd.ax_.set(xlabel='Predicted', ylabel='True')\n",
    "cmd.ax_.set(title='Confusion matrix of an RNN classifier using a test data')\n"
   ]
  }
 ],
 "metadata": {
  "kernelspec": {
   "display_name": "Python 3 (ipykernel)",
   "language": "python",
   "name": "python3"
  },
  "language_info": {
   "codemirror_mode": {
    "name": "ipython",
    "version": 3
   },
   "file_extension": ".py",
   "mimetype": "text/x-python",
   "name": "python",
   "nbconvert_exporter": "python",
   "pygments_lexer": "ipython3",
   "version": "3.8.12"
  }
 },
 "nbformat": 4,
 "nbformat_minor": 5
}
